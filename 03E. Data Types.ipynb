{
 "cells": [
  {
   "cell_type": "code",
   "execution_count": null,
   "metadata": {},
   "outputs": [
    {
     "name": "stdout",
     "output_type": "stream",
     "text": [
      "1\n"
     ]
    }
   ],
   "source": [
    "#2\n",
    "print(int(1.2321))"
   ]
  },
  {
   "cell_type": "markdown",
   "metadata": {},
   "source": [
    "False = 0\n",
    "Ture = 1\n",
    "\n",
    "*first letter has to be capitalized*"
   ]
  },
  {
   "cell_type": "code",
   "execution_count": 3,
   "metadata": {},
   "outputs": [
    {
     "name": "stdout",
     "output_type": "stream",
     "text": [
      "3\n",
      "1\n"
     ]
    }
   ],
   "source": [
    "print(3 * True)\n",
    "print(False + True)"
   ]
  },
  {
   "cell_type": "markdown",
   "metadata": {},
   "source": [
    "#3 expected cost wiht basement => boolean"
   ]
  },
  {
   "cell_type": "code",
   "execution_count": 4,
   "metadata": {},
   "outputs": [
    {
     "data": {
      "text/plain": [
       "93000"
      ]
     },
     "execution_count": 4,
     "metadata": {},
     "output_type": "execute_result"
    }
   ],
   "source": [
    "def get_expected_cost(beds, baths, has_basement):\n",
    "    value = 80000 + 3000*beds + 10000*baths + 40000*has_basement #false = 0, true = 1\n",
    "    return value\n",
    "get_expected_cost(1,1,0)"
   ]
  },
  {
   "cell_type": "code",
   "execution_count": 10,
   "metadata": {},
   "outputs": [
    {
     "name": "stdout",
     "output_type": "stream",
     "text": [
      "160\n"
     ]
    }
   ],
   "source": [
    "# 5 \n",
    "# custom gravign rings\n",
    "# gold 50, $7\n",
    "# solid gold 100, $10 for engraved unit\n",
    "\n",
    "def cost_of_project(engraving, solid_gold): #solid_gold is boolean, 0 or 1\n",
    "    cost = solid_gold * (100 + 10 * len(engraving)) + (not solid_gold) * (50 + 7 * len(engraving))\n",
    "    return cost\n",
    "\n",
    "project_one = cost_of_project(\"hannah\", True)\n",
    "print(project_one)"
   ]
  },
  {
   "cell_type": "code",
   "execution_count": null,
   "metadata": {},
   "outputs": [],
   "source": []
  }
 ],
 "metadata": {
  "kernelspec": {
   "display_name": "Python 3",
   "language": "python",
   "name": "python3"
  },
  "language_info": {
   "codemirror_mode": {
    "name": "ipython",
    "version": 3
   },
   "file_extension": ".py",
   "mimetype": "text/x-python",
   "name": "python",
   "nbconvert_exporter": "python",
   "pygments_lexer": "ipython3",
   "version": "3.10.3"
  }
 },
 "nbformat": 4,
 "nbformat_minor": 2
}
