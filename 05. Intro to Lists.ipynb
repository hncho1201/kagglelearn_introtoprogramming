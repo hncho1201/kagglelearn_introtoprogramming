{
 "cells": [
  {
   "cell_type": "markdown",
   "metadata": {},
   "source": [
    "### Intro to Lists\n",
    "- data structures - lists, sets, dictionaires, table"
   ]
  },
  {
   "cell_type": "code",
   "execution_count": 34,
   "metadata": {},
   "outputs": [
    {
     "name": "stdout",
     "output_type": "stream",
     "text": [
      "<class 'str'>\n",
      "ginseng, apple, sugar\n"
     ]
    }
   ],
   "source": [
    "ingredients = \"ginseng, apple, sugar\"\n",
    "print(type(ingredients))\n",
    "print(ingredients)\n",
    "\n",
    "#list\n",
    "ingredient_list=[\"ginseng\", \"apple\", \"sugar\"]"
   ]
  },
  {
   "cell_type": "markdown",
   "metadata": {},
   "source": [
    "### List is easier to \n",
    "- get an item at a specified positon (first, second, thrid, etc)\n",
    "- check the number o fitems\n",
    "- add and remove items\n",
    "\n",
    "### List"
   ]
  },
  {
   "cell_type": "markdown",
   "metadata": {},
   "source": [
    "1. Length"
   ]
  },
  {
   "cell_type": "code",
   "execution_count": 35,
   "metadata": {},
   "outputs": [
    {
     "name": "stdout",
     "output_type": "stream",
     "text": [
      "3\n"
     ]
    }
   ],
   "source": [
    "print(len(ingredient_list))"
   ]
  },
  {
   "cell_type": "markdown",
   "metadata": {},
   "source": [
    "2. Indexing\n",
    "- referring to an item according to its position in the list\n",
    "- python uses 'zero-based indexing'\n",
    "- first entry, 0\n",
    "second, 2\n",
    "final, one less than the length of the list"
   ]
  },
  {
   "cell_type": "code",
   "execution_count": 36,
   "metadata": {},
   "outputs": [
    {
     "name": "stdout",
     "output_type": "stream",
     "text": [
      "First entry: apple\n"
     ]
    }
   ],
   "source": [
    "print(\"First entry:\", ingredient_list[1])"
   ]
  },
  {
   "cell_type": "markdown",
   "metadata": {},
   "source": [
    "3. Slicing\n",
    "- pulling a segment of a list (ex. first three entries, last two entres)\n",
    "- first x entries . [:x]\n",
    "- last y entries, [-y:]"
   ]
  },
  {
   "cell_type": "code",
   "execution_count": 37,
   "metadata": {},
   "outputs": [
    {
     "name": "stdout",
     "output_type": "stream",
     "text": [
      "First three entries: ['ginseng', 'apple', 'sugar']\n"
     ]
    }
   ],
   "source": [
    "print(\"First three entries:\", ingredient_list[:3])"
   ]
  },
  {
   "cell_type": "markdown",
   "metadata": {},
   "source": [
    "4. Removing items\n",
    "- remove()"
   ]
  },
  {
   "cell_type": "code",
   "execution_count": 38,
   "metadata": {},
   "outputs": [
    {
     "name": "stdout",
     "output_type": "stream",
     "text": [
      "['ginseng', 'sugar']\n"
     ]
    }
   ],
   "source": [
    "ingredient_list.remove(\"apple\")\n",
    "print(ingredient_list)"
   ]
  },
  {
   "cell_type": "markdown",
   "metadata": {},
   "source": [
    "5. Adding items\n",
    "- .append()"
   ]
  },
  {
   "cell_type": "code",
   "execution_count": 39,
   "metadata": {},
   "outputs": [
    {
     "name": "stdout",
     "output_type": "stream",
     "text": [
      "['ginseng', 'sugar', 'almond milk']\n"
     ]
    }
   ],
   "source": [
    "ingredient_list.append(\"almond milk\")\n",
    "print(ingredient_list)"
   ]
  },
  {
   "cell_type": "markdown",
   "metadata": {},
   "source": [
    "### List can be any data type, booleans, integers, floats\n",
    "ex. hardcover book sales of the 1st week of April"
   ]
  },
  {
   "cell_type": "code",
   "execution_count": 40,
   "metadata": {},
   "outputs": [
    {
     "name": "stdout",
     "output_type": "stream",
     "text": [
      "lengh of the list: 7\n",
      "entry at index 2: 172\n",
      "Minimum: 128\n",
      "Avg sold in first 5 days: 153.8\n"
     ]
    }
   ],
   "source": [
    "hardcover_sales = [139, 128, 172, 139, 191, 168, 170]\n",
    "print(\"lengh of the list:\", len(hardcover_sales))\n",
    "print(\"entry at index 2:\", hardcover_sales[2])\n",
    "\n",
    "#min(), max()\n",
    "#sum()\n",
    "print(\"Minimum:\", min(hardcover_sales))\n",
    "\n",
    "# Avg number\n",
    "print(\"Avg sold in first 5 days:\", sum(hardcover_sales[:5])/5)\n"
   ]
  }
 ],
 "metadata": {
  "kernelspec": {
   "display_name": "Python 3",
   "language": "python",
   "name": "python3"
  },
  "language_info": {
   "codemirror_mode": {
    "name": "ipython",
    "version": 3
   },
   "file_extension": ".py",
   "mimetype": "text/x-python",
   "name": "python",
   "nbconvert_exporter": "python",
   "pygments_lexer": "ipython3",
   "version": "3.10.3"
  }
 },
 "nbformat": 4,
 "nbformat_minor": 2
}
