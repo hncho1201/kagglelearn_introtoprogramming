{
 "cells": [
  {
   "cell_type": "markdown",
   "metadata": {},
   "source": [
    "### Intro to Lists\n",
    "- data structures - lists, sets, dictionaires, table"
   ]
  },
  {
   "cell_type": "code",
   "execution_count": null,
   "metadata": {},
   "outputs": [],
   "source": [
    "ingredients = \"ginseng, apple, sugar\"\n",
    "print(type(ingredients))\n",
    "print(ingredients)\n",
    "\n",
    "#list\n",
    "flower_list=[\"ginseng, apple, sugar\"]"
   ]
  }
 ],
 "metadata": {
  "kernelspec": {
   "display_name": "Python 3",
   "language": "python",
   "name": "python3"
  },
  "language_info": {
   "name": "python",
   "version": "3.10.3"
  }
 },
 "nbformat": 4,
 "nbformat_minor": 2
}
