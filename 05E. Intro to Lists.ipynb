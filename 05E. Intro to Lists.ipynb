{
 "cells": [
  {
   "cell_type": "markdown",
   "metadata": {},
   "source": [
    "### Exercise: Intro to Lists"
   ]
  },
  {
   "cell_type": "code",
   "execution_count": 13,
   "metadata": {},
   "outputs": [],
   "source": [
    "import math\n",
    "#1\n",
    "\n",
    "menu = [\"김치찌개\", \"된장찌개\", \"배추찜\", \"애호박볶음\", \"고구마튀김\"]\n",
    "menu.remove(\"고구마튀김\")\n",
    "menu.append(\"무나물\")"
   ]
  },
  {
   "cell_type": "code",
   "execution_count": 14,
   "metadata": {},
   "outputs": [
    {
     "name": "stdout",
     "output_type": "stream",
     "text": [
      "57.57142857142857\n",
      "58\n"
     ]
    }
   ],
   "source": [
    "#2\n",
    "\n",
    "num_customers = [50, 60, 64, 73, 54, 26, 76, 87]\n",
    "# ave of first seven\n",
    "avg_seven_customers = sum(num_customers[:7])/7\n",
    "print(avg_seven_customers)\n",
    "print(math.ceil(avg_seven_customers))"
   ]
  },
  {
   "cell_type": "code",
   "execution_count": 19,
   "metadata": {},
   "outputs": [
    {
     "name": "stdout",
     "output_type": "stream",
     "text": [
      "A.B.C.D.E.F\n",
      "A.\n",
      "['A', 'B', 'C', 'D', 'E', 'F']\n"
     ]
    }
   ],
   "source": [
    "#3\n",
    "# .split()\n",
    "\n",
    "alphabet = \"A.B.C.D.E.F\"\n",
    "letters = alphabet.split(\".\")\n",
    "print(alphabet)\n",
    "print(alphabet[:2])\n",
    "print(letters)\n",
    "\n",
    "\n",
    "address = \"4 privet direct, homeland, distrct\"\n",
    "formatted_address = address.split(\",\")"
   ]
  },
  {
   "cell_type": "code",
   "execution_count": 22,
   "metadata": {},
   "outputs": [],
   "source": [
    "#4 list comprehensions\n",
    "\n",
    "test_ratings = [1, 2, 3, 4, 5]\n",
    "test_liked = [i>=4 for i in test_ratings]\n",
    "\n",
    "def percentage_liked(ratings):\n",
    "    list_liked = [i>=4 for i in ratings]\n",
    "    percentage_liked + sum(list_liked)/len(list_liked)\n",
    "    return percentage_liked"
   ]
  }
 ],
 "metadata": {
  "kernelspec": {
   "display_name": "Python 3",
   "language": "python",
   "name": "python3"
  },
  "language_info": {
   "codemirror_mode": {
    "name": "ipython",
    "version": 3
   },
   "file_extension": ".py",
   "mimetype": "text/x-python",
   "name": "python",
   "nbconvert_exporter": "python",
   "pygments_lexer": "ipython3",
   "version": "3.10.3"
  }
 },
 "nbformat": 4,
 "nbformat_minor": 2
}
