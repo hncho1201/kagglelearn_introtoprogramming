{
 "cells": [
  {
   "cell_type": "markdown",
   "metadata": {},
   "source": [
    "function is a block of code designed to perform a specific task\n",
    "\n",
    "example\n",
    "add-three() accepts any numbers, adds three to it, then returns teh result\n",
    "\n",
    "### Structure"
   ]
  },
  {
   "cell_type": "code",
   "execution_count": 5,
   "metadata": {},
   "outputs": [],
   "source": [
    "def add_three(input_var):\n",
    "    output_var = input_var + 3\n",
    "    return output_var"
   ]
  },
  {
   "cell_type": "markdown",
   "metadata": {},
   "source": [
    "Header\n",
    "- name of the function arguments begins with def\n",
    "- function name ex. add_three\n",
    "- argument = input-var\n",
    "    -> name of the var that will be used as input to the function\n",
    "- (): parenthesis followed by :\n",
    "\n",
    "Body\n",
    "- specifies the the work of function\n",
    "- must be indented 4 sapes by using Tab\n",
    "- works by rendoring top to bottom\n",
    "- take sthe argument as input\n",
    "- creates new variable\n",
    "- returns statements in the final line"
   ]
  },
  {
   "cell_type": "markdown",
   "metadata": {},
   "source": [
    "### Calling\n",
    "- running a function\n",
    "- add_three() - should leave it as blank to indicate that it is a function"
   ]
  },
  {
   "cell_type": "code",
   "execution_count": 4,
   "metadata": {},
   "outputs": [
    {
     "name": "stdout",
     "output_type": "stream",
     "text": [
      "13\n"
     ]
    }
   ],
   "source": [
    "new_number = add_three(10)\n",
    "print(new_number)"
   ]
  },
  {
   "cell_type": "markdown",
   "metadata": {},
   "source": [
    "### Naming function\n",
    "- only lowercase with underscores \n",
    "- no spaces"
   ]
  },
  {
   "cell_type": "code",
   "execution_count": 6,
   "metadata": {},
   "outputs": [
    {
     "name": "stdout",
     "output_type": "stream",
     "text": [
      "528.0\n"
     ]
    }
   ],
   "source": [
    "# Example: Function to calculate weekly paycheck after taxes 12% tax bracket, $15/hour\n",
    "def get_pay(num_hours):\n",
    "    pay_pretax = num_hours * 15\n",
    "    pay_aftertax = pay_pretax * (1-.12)\n",
    "    return pay_aftertax\n",
    "\n",
    "# working 40 hours\n",
    "pay_fulltime = get_pay(40)\n",
    "print(pay_fulltime)\n",
    "\n",
    "# $528.0\n"
   ]
  },
  {
   "cell_type": "markdown",
   "metadata": {},
   "source": [
    "### Variable \"Scope\"\n"
   ]
  },
  {
   "cell_type": "markdown",
   "metadata": {},
   "source": [
    "- slope : part of the code where it is aceessible\n",
    "- vars is defined insdie a function have a _local scope_ of that function only\n",
    "- vars defined outside of functions have global scope, accessibel anywhere"
   ]
  },
  {
   "cell_type": "markdown",
   "metadata": {},
   "source": [
    "### Functions with multiple arguments\n",
    "\n",
    "- function_name (    ,    ,    )"
   ]
  },
  {
   "cell_type": "code",
   "execution_count": 8,
   "metadata": {},
   "outputs": [
    {
     "name": "stdout",
     "output_type": "stream",
     "text": [
      "748.8000000000001\n"
     ]
    }
   ],
   "source": [
    "# Defining function for calculating after tax\n",
    "def get_pay_with_more_inputs(num_hours, hourly_wage, tax_bracket): # tax bracket in decimal form\n",
    "    pay_pretax = num_hours * hourly_wage\n",
    "    pay_aftertax = pay_pretax * (1-tax_bracket)\n",
    "    return pay_aftertax\n",
    "\n",
    "\n",
    "# Calculating pay_aftertax for 40 hours, 24/hour, 22% tax bracket\n",
    "new_pay_aftertax = get_pay_with_more_inputs (40, 24, .22)\n",
    "print(new_pay_aftertax)\n",
    "# $748.8"
   ]
  },
  {
   "cell_type": "markdown",
   "metadata": {},
   "source": [
    "### Function with no arguments\n",
    "- no arguments, no return statement"
   ]
  },
  {
   "cell_type": "code",
   "execution_count": 10,
   "metadata": {},
   "outputs": [],
   "source": [
    "def print_hello():\n",
    "    print(\"Hello, you!\")\n",
    "    print(\"Good\")"
   ]
  },
  {
   "cell_type": "code",
   "execution_count": 11,
   "metadata": {},
   "outputs": [
    {
     "data": {
      "text/plain": [
       "<function __main__.print_hello()>"
      ]
     },
     "execution_count": 11,
     "metadata": {},
     "output_type": "execute_result"
    }
   ],
   "source": [
    "print_hello"
   ]
  }
 ],
 "metadata": {
  "kernelspec": {
   "display_name": "Python 3",
   "language": "python",
   "name": "python3"
  },
  "language_info": {
   "codemirror_mode": {
    "name": "ipython",
    "version": 3
   },
   "file_extension": ".py",
   "mimetype": "text/x-python",
   "name": "python",
   "nbconvert_exporter": "python",
   "pygments_lexer": "ipython3",
   "version": "3.10.3"
  }
 },
 "nbformat": 4,
 "nbformat_minor": 2
}
