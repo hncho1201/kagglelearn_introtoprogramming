{
 "cells": [
  {
   "cell_type": "markdown",
   "metadata": {},
   "source": [
    "### Conditions & Conditional Statements\n",
    "- function that performs an action that depends on the input\n",
    "\n",
    "### Conditions\n",
    "- statements that are either True or False\n",
    "- ex. print(2>3) => False\n",
    "- Used to compare the values of variables\n",
    "- == equals, != does not equal"
   ]
  },
  {
   "cell_type": "code",
   "execution_count": 1,
   "metadata": {},
   "outputs": [
    {
     "name": "stdout",
     "output_type": "stream",
     "text": [
      "False\n",
      "True\n"
     ]
    }
   ],
   "source": [
    "var_one = 1\n",
    "var_two =2 \n",
    "\n",
    "print(var_one <1)\n",
    "print(var_two >= var_one)"
   ]
  },
  {
   "cell_type": "markdown",
   "metadata": {},
   "source": [
    "### Conditional Statements\n",
    "- use conditions to modify how your function runs\n",
    "checks value of a condition, if Ture, certain block of code is executed\n",
    "\n",
    "#### if statements"
   ]
  },
  {
   "cell_type": "code",
   "execution_count": 9,
   "metadata": {},
   "outputs": [
    {
     "name": "stdout",
     "output_type": "stream",
     "text": [
      "Normal temperature.\n"
     ]
    }
   ],
   "source": [
    "def evaluate_temp(temp):\n",
    "    message = \"Normal temperature.\"\n",
    "    if temp > 38:\n",
    "        message = \"Fever!\"\n",
    "    return message\n",
    "    \n",
    "print(evaluate_temp(37))"
   ]
  },
  {
   "cell_type": "markdown",
   "metadata": {},
   "source": [
    "#### \"if...else\" statements\n",
    "- to run code if a statement is False\n",
    "\"if\" => when True\n",
    "\"else\" => when False\n"
   ]
  },
  {
   "cell_type": "code",
   "execution_count": 10,
   "metadata": {},
   "outputs": [],
   "source": [
    "def evalaute_temp_with_else(temp):\n",
    "    if temp > 38:\n",
    "        message = \"Fever\"\n",
    "    else:\n",
    "        message = \"Normal Temp\"\n",
    "    return message"
   ]
  },
  {
   "cell_type": "code",
   "execution_count": null,
   "metadata": {},
   "outputs": [],
   "source": [
    "# practice\n",
    "\n"
   ]
  }
 ],
 "metadata": {
  "kernelspec": {
   "display_name": "Python 3",
   "language": "python",
   "name": "python3"
  },
  "language_info": {
   "codemirror_mode": {
    "name": "ipython",
    "version": 3
   },
   "file_extension": ".py",
   "mimetype": "text/x-python",
   "name": "python",
   "nbconvert_exporter": "python",
   "pygments_lexer": "ipython3",
   "version": "3.10.3"
  }
 },
 "nbformat": 4,
 "nbformat_minor": 2
}
