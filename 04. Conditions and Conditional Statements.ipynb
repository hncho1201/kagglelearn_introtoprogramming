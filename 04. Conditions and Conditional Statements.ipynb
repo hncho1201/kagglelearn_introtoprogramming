{
 "cells": [
  {
   "cell_type": "markdown",
   "metadata": {},
   "source": [
    "### Conditions & Conditional Statements\n",
    "- function that performs an action that depends on the input\n",
    "\n",
    "### Conditions\n",
    "- statements that are either True or False\n",
    "- ex. print(2>3) => False\n",
    "- Used to compare the values of variables\n",
    "- == equals, != does not equal"
   ]
  },
  {
   "cell_type": "code",
   "execution_count": 1,
   "metadata": {},
   "outputs": [
    {
     "name": "stdout",
     "output_type": "stream",
     "text": [
      "False\n",
      "True\n"
     ]
    }
   ],
   "source": [
    "var_one = 1\n",
    "var_two =2 \n",
    "\n",
    "print(var_one <1)\n",
    "print(var_two >= var_one)"
   ]
  },
  {
   "cell_type": "markdown",
   "metadata": {},
   "source": [
    "### Conditional Statements\n",
    "- use conditions to modify how your function runs\n",
    "checks value of a condition, if Ture, certain block of code is executed\n",
    "\n",
    "#### if statements"
   ]
  },
  {
   "cell_type": "code",
   "execution_count": 9,
   "metadata": {},
   "outputs": [
    {
     "name": "stdout",
     "output_type": "stream",
     "text": [
      "Normal temperature.\n"
     ]
    }
   ],
   "source": [
    "def evaluate_temp(temp):\n",
    "    message = \"Normal temperature.\"\n",
    "    if temp > 38:\n",
    "        message = \"Fever!\"\n",
    "    return message\n",
    "    \n",
    "print(evaluate_temp(37))"
   ]
  },
  {
   "cell_type": "markdown",
   "metadata": {},
   "source": [
    "#### \"if...else\" statements\n",
    "- to run code if a statement is False\n",
    "\"if\" => when True\n",
    "\"else\" => when False\n"
   ]
  },
  {
   "cell_type": "code",
   "execution_count": 10,
   "metadata": {},
   "outputs": [],
   "source": [
    "def evalaute_temp_with_else(temp):\n",
    "    if temp > 38:\n",
    "        message = \"Fever\"\n",
    "    else:\n",
    "        message = \"Normal Temp\"\n",
    "    return message"
   ]
  },
  {
   "cell_type": "code",
   "execution_count": 2,
   "metadata": {},
   "outputs": [
    {
     "name": "stdout",
     "output_type": "stream",
     "text": [
      "Clean\n"
     ]
    }
   ],
   "source": [
    "# practice\n",
    "def evaluate_shower_per_week(shower):\n",
    "    if shower > 3:\n",
    "        message = \"Clean\"\n",
    "    else:\n",
    "        message = \"Ew.. Dirty!\"\n",
    "    return message\n",
    "\n",
    "print(evaluate_shower_per_week(4))\n"
   ]
  },
  {
   "cell_type": "markdown",
   "metadata": {},
   "source": [
    "### \"If...elif...else\" statements\n",
    "- else if checks if multiple conditions might be true"
   ]
  },
  {
   "cell_type": "code",
   "execution_count": 5,
   "metadata": {},
   "outputs": [
    {
     "name": "stdout",
     "output_type": "stream",
     "text": [
      "Low temp\n"
     ]
    }
   ],
   "source": [
    "def evaluate_temp_with_elif(temp):\n",
    "    if temp > 38:\n",
    "        message = \"Fever\"\n",
    "    elif temp > 35:\n",
    "        message = \"Normal Temp\"\n",
    "    else:\n",
    "        message = \"Low temp\"\n",
    "    return message\n",
    "\n",
    "print(evaluate_temp_with_elif(34))"
   ]
  },
  {
   "cell_type": "code",
   "execution_count": 6,
   "metadata": {},
   "outputs": [
    {
     "name": "stdout",
     "output_type": "stream",
     "text": [
      "Clean\n"
     ]
    }
   ],
   "source": [
    "def check_shower_per_week(shower):\n",
    "    if shower > 4:\n",
    "        message = \"Clean\"\n",
    "    elif shower > 12:\n",
    "        message = \"OCD???\"\n",
    "    else:\n",
    "        message = \"Ew...Dirty!\"\n",
    "    return message\n",
    "\n",
    "print(check_shower_per_week(7))"
   ]
  },
  {
   "cell_type": "code",
   "execution_count": 17,
   "metadata": {},
   "outputs": [
    {
     "name": "stdout",
     "output_type": "stream",
     "text": [
      "Pay 30%\n",
      "3900.0\n"
     ]
    }
   ],
   "source": [
    "# Example - Calculations\n",
    "# two tax brackets earnings less than 12,000 pay 25%, 12,000+ pay 30%\n",
    "# write a function to calculate how much tax is owed\n",
    "\n",
    "def tax(earnings):\n",
    "    if earnings < 12000:\n",
    "        message = \"Pay 25%\"\n",
    "    elif earnings >= 12000:\n",
    "        message = \"Pay 30%\"\n",
    "    return message\n",
    "\n",
    "print(tax(15000))\n",
    "\n",
    "### to calculate the exact tax\n",
    "\n",
    "def tax_owed_amount(earning):\n",
    "    if earning < 12000:\n",
    "        tax_owed = .25 * earning\n",
    "    else: \n",
    "        tax_owed = .30 * earning\n",
    "    return tax_owed\n",
    "\n",
    "hannah_taxes = tax_owed_amount(13000)\n",
    "print(hannah_taxes)\n"
   ]
  },
  {
   "cell_type": "code",
   "execution_count": 19,
   "metadata": {},
   "outputs": [
    {
     "name": "stdout",
     "output_type": "stream",
     "text": [
      "3.75\n"
     ]
    }
   ],
   "source": [
    "# Example - Multiple \"elif\" statements\n",
    "# calculates the does of medication to give to a child, base don weight\n",
    "\n",
    "def get_dose(weight):\n",
    "    if weight <5.2:\n",
    "        dose = 1.25\n",
    "    elif weight <7.9:\n",
    "        dose = 2.5\n",
    "    elif weight < 10.4:\n",
    "        dose = 3.75\n",
    "    elif weight < 15.9:\n",
    "        dose = 5\n",
    "    elif weight <21.2:\n",
    "        dose = 7.5\n",
    "    else:\n",
    "        dose = 10\n",
    "    return dose\n",
    "\n",
    "john_dose = get_dose(9)\n",
    "print(john_dose)\n"
   ]
  }
 ],
 "metadata": {
  "kernelspec": {
   "display_name": "Python 3",
   "language": "python",
   "name": "python3"
  },
  "language_info": {
   "codemirror_mode": {
    "name": "ipython",
    "version": 3
   },
   "file_extension": ".py",
   "mimetype": "text/x-python",
   "name": "python",
   "nbconvert_exporter": "python",
   "pygments_lexer": "ipython3",
   "version": "3.10.3"
  }
 },
 "nbformat": 4,
 "nbformat_minor": 2
}
