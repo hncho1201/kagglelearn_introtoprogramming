{
 "cells": [
  {
   "cell_type": "markdown",
   "metadata": {},
   "source": [
    "### House Prices"
   ]
  },
  {
   "cell_type": "code",
   "execution_count": 54,
   "metadata": {},
   "outputs": [
    {
     "name": "stdout",
     "output_type": "stream",
     "text": [
      "5\n"
     ]
    }
   ],
   "source": [
    "import math\n",
    "print(math.ceil(4.3))\n",
    "\n",
    "# 1\n",
    "# 80000 base cost, 30000 per bed, 10000 per bath\n",
    "def get_expected_cost (beds, baths):\n",
    "    value = 80000 + 30000*beds + 10000*baths\n",
    "    return value"
   ]
  },
  {
   "cell_type": "code",
   "execution_count": 50,
   "metadata": {},
   "outputs": [
    {
     "name": "stdout",
     "output_type": "stream",
     "text": [
      "170000\n",
      "190000\n"
     ]
    }
   ],
   "source": [
    "# 2\n",
    "# prices for different options\n",
    "\n",
    "# number of house with 2 beds, 3 baths\n",
    "option_one = get_expected_cost (2,3)\n",
    "\n",
    "#number of house with 3 beds, 2 baths\n",
    "option_two = get_expected_cost (3,2)\n",
    "\n",
    "print(option_one)\n",
    "print(option_two)"
   ]
  },
  {
   "cell_type": "code",
   "execution_count": 51,
   "metadata": {},
   "outputs": [],
   "source": [
    "# 3\n",
    "# Calculatign cost of painting a room ( partial gallon purchase allowed)\n",
    "\n",
    "def get_cost(sqft_walls, sqft_ceiling, sqft_per_gallon, cost_per_gallon):\n",
    "    total_sqft = sqft_walls + sqft_ceiling\n",
    "    gallons_needed = total_sqft / sqft_per_gallon\n",
    "    cost = cost_per_gallon * gallons_needed\n",
    "    return cost\n"
   ]
  },
  {
   "cell_type": "code",
   "execution_count": 52,
   "metadata": {},
   "outputs": [
    {
     "name": "stdout",
     "output_type": "stream",
     "text": [
      "21.599999999999998\n"
     ]
    }
   ],
   "source": [
    "# 4\n",
    "# 432 sqft of walls, 144 sqft of ceiling, gallon covers 400 sqft, costs $15\n",
    "\n",
    "painting_cost = get_cost(432, 144, 400, 15)\n",
    "print(painting_cost)\n"
   ]
  },
  {
   "cell_type": "code",
   "execution_count": 58,
   "metadata": {},
   "outputs": [],
   "source": [
    "# 5\n",
    "# Getting acutal cost ( no partial gallons allowed)\n",
    "\n",
    "def actual_cost(sqft_walls, sqft_ceiling, sqft_per_gallon, cost_per_gallon):\n",
    "    total_sqft = sqft_walls + sqft_ceiling\n",
    "    gallons_needed = total_sqft / sqft_per_gallon\n",
    "    gallons_to_buy = math.ceil(gallons_needed)\n",
    "    actual_cost = cost_per_gallon * gallons_to_buy\n",
    "    return actual_cost\n"
   ]
  },
  {
   "cell_type": "markdown",
   "metadata": {},
   "source": [
    "math.ceil()\n",
    "number as a input, rounds the number up to the nearest integer"
   ]
  },
  {
   "cell_type": "code",
   "execution_count": 60,
   "metadata": {},
   "outputs": [
    {
     "name": "stdout",
     "output_type": "stream",
     "text": [
      "30\n"
     ]
    }
   ],
   "source": [
    "answer = actual_cost(432, 144, 400, 15)\n",
    "print(answer)\n",
    "\n",
    "# answer = 30"
   ]
  }
 ],
 "metadata": {
  "kernelspec": {
   "display_name": "Python 3",
   "language": "python",
   "name": "python3"
  },
  "language_info": {
   "codemirror_mode": {
    "name": "ipython",
    "version": 3
   },
   "file_extension": ".py",
   "mimetype": "text/x-python",
   "name": "python",
   "nbconvert_exporter": "python",
   "pygments_lexer": "ipython3",
   "version": "3.10.3"
  }
 },
 "nbformat": 4,
 "nbformat_minor": 2
}
